{
 "cells": [
  {
   "cell_type": "markdown",
   "id": "a29f000b-705c-492d-881c-966ac3c80057",
   "metadata": {},
   "source": [
    "## Подгружаем логин, пароль для подключения к Базе данных, а также ip-адрес сервера:"
   ]
  },
  {
   "cell_type": "code",
   "execution_count": 26,
   "id": "4f6fbb6d-fbf7-40b0-aa77-f02f355d4f25",
   "metadata": {},
   "outputs": [],
   "source": [
    "import json\n",
    "\n",
    "\"\"\"Здесь я загружаю свой логин и пароль для входа в БД, из файла config1.json\n",
    "    сделал это чтобы не палить логин и пароль в коде, закинув в будущем этот файл в гитигнор\"\"\"\n",
    "def load_config():\n",
    "    # Открываем файл с конфигом в режиме чтения\n",
    "    with open('config1.json', 'r') as config_file:\n",
    "        # С помощью библиотеки json читаем и возвращаем результат\n",
    "        config = json.load(config_file)\n",
    "        return config\n",
    "login_passw = load_config()"
   ]
  },
  {
   "cell_type": "code",
   "execution_count": 27,
   "id": "24a0ebe3-38c5-41b1-9c2a-ec10e34983c2",
   "metadata": {},
   "outputs": [],
   "source": [
    "db_username, db_password = login_passw[\"user\"], login_passw[\"password\"]\n",
    "ip_app = login_passw[\"ip\"] # Your ip start apps"
   ]
  },
  {
   "cell_type": "markdown",
   "id": "4c0a60b1-623a-42e7-99e4-31c606ab83cd",
   "metadata": {},
   "source": [
    "## **Регистрация пользователя в базе:**"
   ]
  },
  {
   "cell_type": "code",
   "execution_count": 30,
   "id": "1d0d7f0d-a8c1-4a24-807e-58107396ee0b",
   "metadata": {},
   "outputs": [
    {
     "name": "stdout",
     "output_type": "stream",
     "text": [
      "_ _ _ _ _ _ _ _ _ _ _ _ _ _ _ _ _ _ _ _ _ _ _ _ _ _ _ _ _ _ _ _ _ _ _ _ _ _ _ _ _ _ _ _ _ _ _ _ _ _ _ _ _ \n",
      "\n",
      "Вы успешно зарегистрированы\n"
     ]
    }
   ],
   "source": [
    "import requests\n",
    "import json\n",
    "print('_ _ _ _ _ _ _ _ _ _ _ _ _ _ _ _ _ _ _ _ _ _ _ _ _ _ _ _ _ _ _ _ _ _ _ _ _ _ _ _ _ _ _ _ _ _ _ _ _ _ _ _ _ ')\n",
    "print('')\n",
    "headers = {\"Content-Type\": \"application/json\"}\n",
    "\n",
    "new_user_login = \"user4\"\n",
    "new_user_password = \"user4\"\n",
    "\n",
    "s = requests.Session()\n",
    "data = {\"login\": new_user_login, \"psw\": new_user_password}\n",
    "url = f\"{ip_app}/registration\"\n",
    "session = s.get(url, data=json.dumps(data), headers=headers)\n",
    "print(str(session.json()))"
   ]
  },
  {
   "cell_type": "markdown",
   "id": "114431d6-d801-4810-861e-81ac86c35a63",
   "metadata": {},
   "source": [
    "## **Запрос на сервер со своим вопросом:**"
   ]
  },
  {
   "cell_type": "code",
   "execution_count": 28,
   "id": "50bb0a5e",
   "metadata": {},
   "outputs": [
    {
     "name": "stdout",
     "output_type": "stream",
     "text": [
      "_ _ _ _ _ _ _ _ _ _ _ _ _ _ _ _ _ _ _ _ _ _ _ _ _ _ _ _ _ _ _ _ _ _ _ _ _ _ _ _ _ _ _ _ _ _ _ _ _ _ _ _ _ \n",
      "\n",
      "http://127.0.0.1:5000/login\n",
      "['Вы успешно авторизованы', 'admin']\n",
      "\n",
      "################### 1 Запрос ###################\n",
      "['Вопрос: Как работает алгоритм?', 'Ответ: Каждый алгоритм в программировании реализует по крайней мере три шага:\\n\\nПолучение данных.\\nВыполнение вычислений.\\nВывод результата']\n",
      "\n",
      "################### 2 Запрос ###################\n",
      "['Вопрос: Реляционные операторы', 'Ответ: Реляционные операторы используются в программировании для сравнения значений. Результатом оценки с использованием реляционных операторов будет true или false.']\n",
      "\n",
      "Сессия успешно завершилась\n"
     ]
    }
   ],
   "source": [
    "import requests\n",
    "import json\n",
    "print('_ _ _ _ _ _ _ _ _ _ _ _ _ _ _ _ _ _ _ _ _ _ _ _ _ _ _ _ _ _ _ _ _ _ _ _ _ _ _ _ _ _ _ _ _ _ _ _ _ _ _ _ _ ')\n",
    "print('')\n",
    "headers = {\"Content-Type\": \"application/json\"}\n",
    "\n",
    "s = requests.Session()\n",
    "data = {\"nm\": db_username, \"psw\": db_password}\n",
    "url = f\"{ip_app}/login\"\n",
    "print(url)\n",
    "session = s.get(url, data=json.dumps(data), headers=headers)\n",
    "print(str(session.json()))\n",
    "\n",
    "if str(session.json()) != 'Авторизация не удалась':\n",
    "    print('')\n",
    "    print('################### 1 Запрос ###################')\n",
    "    question = 'Как установить Python?'\n",
    "    url = f\"{ip_app}/api/data\"\n",
    "    todo = {'question': question}  # Передаем вопрос\n",
    "    response = s.get(url, data=json.dumps(todo), headers=headers)\n",
    "    print(str(response.json()))\n",
    "    \n",
    "    print('')\n",
    "    print('################### 2 Запрос ###################')\n",
    "    question = 'Татнефть это'\n",
    "    url = f\"{ip_app}/api/data\"\n",
    "    todo = {'question': question}  # Передаем вопрос\n",
    "    response = s.get(url, data=json.dumps(todo), headers=headers)\n",
    "    print(str(response.json()))\n",
    "    \n",
    "    \n",
    "    print('')\n",
    "    \"\"\" Завершение сессии на сервере \"\"\"\n",
    "    url = f\"{ip_app}/logout\"\n",
    "    response = s.get(url)\n",
    "    print(response.json())\n",
    "    "
   ]
  },
  {
   "cell_type": "markdown",
   "id": "f34547e9-e8a9-470e-9079-92321ce16e8c",
   "metadata": {},
   "source": [
    "## **Пробуем зарегистрировать пользователя с существующим логином:**"
   ]
  },
  {
   "cell_type": "code",
   "execution_count": 31,
   "id": "f82244b7",
   "metadata": {},
   "outputs": [
    {
     "name": "stdout",
     "output_type": "stream",
     "text": [
      "_ _ _ _ _ _ _ _ _ _ _ _ _ _ _ _ _ _ _ _ _ _ _ _ _ _ _ _ _ _ _ _ _ _ _ _ _ _ _ _ _ _ _ _ _ _ _ _ _ _ _ _ _ \n",
      "\n",
      "Такой пользователь уже существует\n"
     ]
    }
   ],
   "source": [
    "import requests\n",
    "import json\n",
    "print('_ _ _ _ _ _ _ _ _ _ _ _ _ _ _ _ _ _ _ _ _ _ _ _ _ _ _ _ _ _ _ _ _ _ _ _ _ _ _ _ _ _ _ _ _ _ _ _ _ _ _ _ _ ')\n",
    "print('')\n",
    "headers = {\"Content-Type\": \"application/json\"}\n",
    "\n",
    "new_user_login = \"user4\"\n",
    "new_user_password = \"user1\"\n",
    "\n",
    "s = requests.Session()\n",
    "data = {\"login\": new_user_login, \"psw\": new_user_password}\n",
    "url = \"http://192.168.31.116:5000/registration\"\n",
    "session = s.get(url, data=json.dumps(data), headers=headers)\n",
    "print(str(session.json()))"
   ]
  }
 ],
 "metadata": {
  "kernelspec": {
   "display_name": "python3.11",
   "language": "python",
   "name": "python3.11"
  },
  "language_info": {
   "codemirror_mode": {
    "name": "ipython",
    "version": 3
   },
   "file_extension": ".py",
   "mimetype": "text/x-python",
   "name": "python",
   "nbconvert_exporter": "python",
   "pygments_lexer": "ipython3",
   "version": "3.11.6"
  }
 },
 "nbformat": 4,
 "nbformat_minor": 5
}
